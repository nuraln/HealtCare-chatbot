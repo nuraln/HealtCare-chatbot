{
 "cells": [
  {
   "cell_type": "markdown",
   "id": "8fcaae27",
   "metadata": {},
   "source": [
    "# This is Health care chatbot using AI"
   ]
  },
  {
   "cell_type": "markdown",
   "id": "b6018a75",
   "metadata": {},
   "source": [
    "## A Healthcare Domain Chatbot to simulate the predictions of a General Physician"
   ]
  },
  {
   "cell_type": "code",
   "execution_count": null,
   "id": "0217e2c6",
   "metadata": {},
   "outputs": [],
   "source": [
    "# Importing the libraries\n",
    "from tkinter import *\n",
    "from tkinter import messagebox                           \n",
    "import os            \n",
    "import webbrowser\n",
    "\n",
    "import numpy as np\n",
    "import pandas as pd"
   ]
  },
  {
   "cell_type": "code",
   "execution_count": null,
   "id": "184c2aac",
   "metadata": {},
   "outputs": [],
   "source": [
    "# Importing the dataset\n",
    "training_dataset = pd.read_csv('Training.csv')\n",
    "test_dataset = pd.read_csv('Testing.csv')"
   ]
  },
  {
   "cell_type": "code",
   "execution_count": 21,
   "id": "569ff0ae",
   "metadata": {},
   "outputs": [
    {
     "data": {
      "text/plain": [
       "(4920, 133)"
      ]
     },
     "execution_count": 21,
     "metadata": {},
     "output_type": "execute_result"
    }
   ],
   "source": [
    "training_dataset.shape"
   ]
  },
  {
   "cell_type": "code",
   "execution_count": 23,
   "id": "b131ecb3",
   "metadata": {},
   "outputs": [
    {
     "data": {
      "text/html": [
       "<div>\n",
       "<style scoped>\n",
       "    .dataframe tbody tr th:only-of-type {\n",
       "        vertical-align: middle;\n",
       "    }\n",
       "\n",
       "    .dataframe tbody tr th {\n",
       "        vertical-align: top;\n",
       "    }\n",
       "\n",
       "    .dataframe thead th {\n",
       "        text-align: right;\n",
       "    }\n",
       "</style>\n",
       "<table border=\"1\" class=\"dataframe\">\n",
       "  <thead>\n",
       "    <tr style=\"text-align: right;\">\n",
       "      <th></th>\n",
       "      <th>itching</th>\n",
       "      <th>skin_rash</th>\n",
       "      <th>nodal_skin_eruptions</th>\n",
       "      <th>continuous_sneezing</th>\n",
       "      <th>shivering</th>\n",
       "      <th>chills</th>\n",
       "      <th>joint_pain</th>\n",
       "      <th>stomach_pain</th>\n",
       "      <th>acidity</th>\n",
       "      <th>ulcers_on_tongue</th>\n",
       "      <th>...</th>\n",
       "      <th>blackheads</th>\n",
       "      <th>scurring</th>\n",
       "      <th>skin_peeling</th>\n",
       "      <th>silver_like_dusting</th>\n",
       "      <th>small_dents_in_nails</th>\n",
       "      <th>inflammatory_nails</th>\n",
       "      <th>blister</th>\n",
       "      <th>red_sore_around_nose</th>\n",
       "      <th>yellow_crust_ooze</th>\n",
       "      <th>prognosis</th>\n",
       "    </tr>\n",
       "  </thead>\n",
       "  <tbody>\n",
       "    <tr>\n",
       "      <th>0</th>\n",
       "      <td>1</td>\n",
       "      <td>1</td>\n",
       "      <td>1</td>\n",
       "      <td>0</td>\n",
       "      <td>0</td>\n",
       "      <td>0</td>\n",
       "      <td>0</td>\n",
       "      <td>0</td>\n",
       "      <td>0</td>\n",
       "      <td>0</td>\n",
       "      <td>...</td>\n",
       "      <td>0</td>\n",
       "      <td>0</td>\n",
       "      <td>0</td>\n",
       "      <td>0</td>\n",
       "      <td>0</td>\n",
       "      <td>0</td>\n",
       "      <td>0</td>\n",
       "      <td>0</td>\n",
       "      <td>0</td>\n",
       "      <td>Fungal infection</td>\n",
       "    </tr>\n",
       "    <tr>\n",
       "      <th>1</th>\n",
       "      <td>0</td>\n",
       "      <td>1</td>\n",
       "      <td>1</td>\n",
       "      <td>0</td>\n",
       "      <td>0</td>\n",
       "      <td>0</td>\n",
       "      <td>0</td>\n",
       "      <td>0</td>\n",
       "      <td>0</td>\n",
       "      <td>0</td>\n",
       "      <td>...</td>\n",
       "      <td>0</td>\n",
       "      <td>0</td>\n",
       "      <td>0</td>\n",
       "      <td>0</td>\n",
       "      <td>0</td>\n",
       "      <td>0</td>\n",
       "      <td>0</td>\n",
       "      <td>0</td>\n",
       "      <td>0</td>\n",
       "      <td>Fungal infection</td>\n",
       "    </tr>\n",
       "    <tr>\n",
       "      <th>2</th>\n",
       "      <td>1</td>\n",
       "      <td>0</td>\n",
       "      <td>1</td>\n",
       "      <td>0</td>\n",
       "      <td>0</td>\n",
       "      <td>0</td>\n",
       "      <td>0</td>\n",
       "      <td>0</td>\n",
       "      <td>0</td>\n",
       "      <td>0</td>\n",
       "      <td>...</td>\n",
       "      <td>0</td>\n",
       "      <td>0</td>\n",
       "      <td>0</td>\n",
       "      <td>0</td>\n",
       "      <td>0</td>\n",
       "      <td>0</td>\n",
       "      <td>0</td>\n",
       "      <td>0</td>\n",
       "      <td>0</td>\n",
       "      <td>Fungal infection</td>\n",
       "    </tr>\n",
       "  </tbody>\n",
       "</table>\n",
       "<p>3 rows × 133 columns</p>\n",
       "</div>"
      ],
      "text/plain": [
       "   itching  skin_rash  nodal_skin_eruptions  continuous_sneezing  shivering  \\\n",
       "0        1          1                     1                    0          0   \n",
       "1        0          1                     1                    0          0   \n",
       "2        1          0                     1                    0          0   \n",
       "\n",
       "   chills  joint_pain  stomach_pain  acidity  ulcers_on_tongue  ...  \\\n",
       "0       0           0             0        0                 0  ...   \n",
       "1       0           0             0        0                 0  ...   \n",
       "2       0           0             0        0                 0  ...   \n",
       "\n",
       "   blackheads  scurring  skin_peeling  silver_like_dusting  \\\n",
       "0           0         0             0                    0   \n",
       "1           0         0             0                    0   \n",
       "2           0         0             0                    0   \n",
       "\n",
       "   small_dents_in_nails  inflammatory_nails  blister  red_sore_around_nose  \\\n",
       "0                     0                   0        0                     0   \n",
       "1                     0                   0        0                     0   \n",
       "2                     0                   0        0                     0   \n",
       "\n",
       "   yellow_crust_ooze         prognosis  \n",
       "0                  0  Fungal infection  \n",
       "1                  0  Fungal infection  \n",
       "2                  0  Fungal infection  \n",
       "\n",
       "[3 rows x 133 columns]"
      ]
     },
     "execution_count": 23,
     "metadata": {},
     "output_type": "execute_result"
    }
   ],
   "source": [
    "training_dataset.head(3)"
   ]
  },
  {
   "cell_type": "code",
   "execution_count": 8,
   "id": "4b35dc2c",
   "metadata": {},
   "outputs": [
    {
     "name": "stdout",
     "output_type": "stream",
     "text": [
      "[[1 1 1 ... 0 0 0]\n",
      " [0 1 1 ... 0 0 0]\n",
      " [1 0 1 ... 0 0 0]\n",
      " ...\n",
      " [0 0 0 ... 0 0 0]\n",
      " [0 1 0 ... 0 0 0]\n",
      " [0 1 0 ... 1 1 1]]\n",
      "['Fungal infection' 'Fungal infection' 'Fungal infection' ...\n",
      " 'Urinary tract infection' 'Psoriasis' 'Impetigo']\n"
     ]
    }
   ],
   "source": [
    "# Slicing and Dicing the dataset to separate features from predictions\n",
    "X = training_dataset.iloc[:, 0:132].values\n",
    "print(X)\n",
    "y = training_dataset.iloc[:, -1].values\n",
    "print(y)"
   ]
  },
  {
   "cell_type": "code",
   "execution_count": 20,
   "id": "19d50caf",
   "metadata": {},
   "outputs": [],
   "source": [
    "# Dimensionality Reduction for removing redundancies\n",
    "dimensionality_reduction = training_dataset.groupby(training_dataset['prognosis']).max()\n",
    "# print(dimensionality_reduction)"
   ]
  },
  {
   "cell_type": "code",
   "execution_count": 6,
   "id": "64daea83",
   "metadata": {},
   "outputs": [
    {
     "name": "stdout",
     "output_type": "stream",
     "text": [
      "[15 15 15 ... 38 35 27]\n"
     ]
    }
   ],
   "source": [
    "# Encoding String values to integer constants\n",
    "from sklearn.preprocessing import LabelEncoder\n",
    "labelencoder = LabelEncoder()\n",
    "y = labelencoder.fit_transform(y)\n",
    "print(y)"
   ]
  },
  {
   "cell_type": "code",
   "execution_count": 9,
   "id": "be03250d",
   "metadata": {},
   "outputs": [],
   "source": [
    "# Splitting the dataset into training set and test set\n",
    "from sklearn.model_selection import train_test_split\n",
    "X_train, X_test, y_train, y_test = train_test_split(X, y, test_size = 0.25, random_state = 0)"
   ]
  },
  {
   "cell_type": "code",
   "execution_count": 10,
   "id": "105021e6",
   "metadata": {},
   "outputs": [
    {
     "data": {
      "text/plain": [
       "DecisionTreeClassifier()"
      ]
     },
     "execution_count": 10,
     "metadata": {},
     "output_type": "execute_result"
    }
   ],
   "source": [
    "# Implementing the Decision Tree Classifier\n",
    "from sklearn.tree import DecisionTreeClassifier\n",
    "classifier = DecisionTreeClassifier()\n",
    "classifier.fit(X_train, y_train)"
   ]
  },
  {
   "cell_type": "code",
   "execution_count": 11,
   "id": "6064eba2",
   "metadata": {},
   "outputs": [],
   "source": [
    "# Saving the information of columns\n",
    "cols     = training_dataset.columns\n",
    "cols     = cols[:-1]"
   ]
  },
  {
   "cell_type": "code",
   "execution_count": 12,
   "id": "4f077989",
   "metadata": {},
   "outputs": [],
   "source": [
    "# Checking the Important features\n",
    "importances = classifier.feature_importances_\n",
    "indices = np.argsort(importances)[::-1]\n",
    "features = cols"
   ]
  },
  {
   "cell_type": "code",
   "execution_count": 13,
   "id": "d1ebfa11",
   "metadata": {},
   "outputs": [],
   "source": [
    "# Implementing the Visual Tree\n",
    "from sklearn.tree import _tree"
   ]
  },
  {
   "cell_type": "code",
   "execution_count": null,
   "id": "436e6c3f",
   "metadata": {},
   "outputs": [],
   "source": [
    "# Method to simulate the working of a Chatbot by extracting and formulating questions\n",
    "def execute_bot():\n",
    "    print(\"Hey! I am Bot(made by Nuraln).So I am here to help  you for your query\")\n",
    "   \n",
    "    print(\"Please reply with yes/Yes or no/No for the following symptoms\") \n",
    "    def print_disease(node):\n",
    "        #print(node)\n",
    "        node = node[0]\n",
    "        #print(len(node))\n",
    "        val  = node.nonzero() \n",
    "        #print(val)\n",
    "        disease = labelencoder.inverse_transform(val[0])\n",
    "        return disease\n",
    "    def tree_to_code(tree, feature_names):\n",
    "        tree_ = tree.tree_\n",
    "        #print(tree_)\n",
    "        feature_name = [\n",
    "            feature_names[i] if i != _tree.TREE_UNDEFINED else \"undefined!\"\n",
    "            for i in tree_.feature\n",
    "        ]\n",
    "        #print(\"def tree({}):\".format(\", \".join(feature_names)))\n",
    "        symptoms_present = []\n",
    "        def recurse(node, depth):\n",
    "            indent = \"  \" * depth\n",
    "            if tree_.feature[node] != _tree.TREE_UNDEFINED:\n",
    "                name = feature_name[node]\n",
    "                threshold = tree_.threshold[node]\n",
    "                print(name + \" ?\")\n",
    "                ans = input()\n",
    "                ans = ans.lower()\n",
    "                if ans == 'yes':\n",
    "                    val = 1\n",
    "                else:\n",
    "                    val = 0\n",
    "                if  val <= threshold:\n",
    "                    recurse(tree_.children_left[node], depth + 1)\n",
    "                else:\n",
    "                    symptoms_present.append(name)\n",
    "                    recurse(tree_.children_right[node], depth + 1)\n",
    "            else:\n",
    "                present_disease = print_disease(tree_.value[node])\n",
    "                print( \"You may have \" +  present_disease )\n",
    "                print()\n",
    "                red_cols = dimensionality_reduction.columns \n",
    "                symptoms_given = red_cols[dimensionality_reduction.loc[present_disease].values[0].nonzero()]\n",
    "                print(\"symptoms present  \" + str(list(symptoms_present)))\n",
    "                print()\n",
    "                print(\"symptoms given \"  +  str(list(symptoms_given)) )  \n",
    "                print()\n",
    "                confidence_level = (1.0*len(symptoms_present))/len(symptoms_given)\n",
    "                print(\"confidence level is \" + str(confidence_level))\n",
    "                print()\n",
    "                print('I would like to suggest you one of our respected doctor:')\n",
    "                print()\n",
    "                row = doctors[doctors['disease'] == present_disease[0]]\n",
    "                print('Consult ', str(row['name'].values))\n",
    "                print()\n",
    "                print('Visit ', str(row['link'].values))\n",
    "                #print(present_disease[0])\n",
    "                \n",
    "    \n",
    "        recurse(0, 1)\n",
    "    \n",
    "    tree_to_code(classifier,cols)"
   ]
  },
  {
   "cell_type": "code",
   "execution_count": null,
   "id": "451dc9e2",
   "metadata": {},
   "outputs": [],
   "source": [
    "# This section of code to be run after scraping the data\n",
    "doc_dataset = pd.read_csv('doctors_dataset.csv', names = ['Name', 'Description'])"
   ]
  },
  {
   "cell_type": "code",
   "execution_count": null,
   "id": "f8f720cd",
   "metadata": {},
   "outputs": [],
   "source": [
    "diseases = dimensionality_reduction.index\n",
    "diseases = pd.DataFrame(diseases)"
   ]
  },
  {
   "cell_type": "code",
   "execution_count": null,
   "id": "a2c18cc0",
   "metadata": {},
   "outputs": [],
   "source": [
    "doctors = pd.DataFrame()\n",
    "doctors['name'] = np.nan\n",
    "doctors['link'] = np.nan\n",
    "doctors['disease'] = np.nan"
   ]
  },
  {
   "cell_type": "code",
   "execution_count": null,
   "id": "f9ef6d01",
   "metadata": {},
   "outputs": [],
   "source": [
    "doctors['disease'] = diseases['prognosis']\n",
    "\n",
    "\n",
    "doctors['name'] = doc_dataset['Name']\n",
    "doctors['link'] = doc_dataset['Description']\n",
    "\n",
    "record = doctors[doctors['disease'] == 'AIDS']\n",
    "record['name']\n",
    "record['link']"
   ]
  },
  {
   "cell_type": "code",
   "execution_count": null,
   "id": "ddd555bc",
   "metadata": {},
   "outputs": [],
   "source": [
    "# Execute the bot a nd see it in Action\n",
    "execute_bot()"
   ]
  },
  {
   "cell_type": "code",
   "execution_count": null,
   "id": "1a0d6295",
   "metadata": {},
   "outputs": [],
   "source": []
  }
 ],
 "metadata": {
  "kernelspec": {
   "display_name": "Python 3 (ipykernel)",
   "language": "python",
   "name": "python3"
  },
  "language_info": {
   "codemirror_mode": {
    "name": "ipython",
    "version": 3
   },
   "file_extension": ".py",
   "mimetype": "text/x-python",
   "name": "python",
   "nbconvert_exporter": "python",
   "pygments_lexer": "ipython3",
   "version": "3.9.13"
  }
 },
 "nbformat": 4,
 "nbformat_minor": 5
}
